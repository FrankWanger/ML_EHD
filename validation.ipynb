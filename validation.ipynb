{
 "cells": [
  {
   "cell_type": "markdown",
   "metadata": {},
   "source": [
    "Copyright (C) Fanjin Wang 2021 - All Rights Reserved\n",
    "Fanjin.Wang.20@ucl.ac.uk"
   ]
  },
  {
   "cell_type": "markdown",
   "metadata": {},
   "source": [
    "### Lib Dependancies:\n",
    "    scikit-learn\n",
    "    py-xgboost    \n",
    "    pandas\n",
    "    numpy"
   ]
  },
  {
   "cell_type": "code",
   "execution_count": 1,
   "metadata": {},
   "outputs": [
    {
     "name": "stdout",
     "output_type": "stream",
     "text": [
      "   Polymer_Conc     Solvent   FR  Vol  Distance  Gauge  Diameter_Mean\n",
      "0             5         DMA  0.3   10       220    0.7       0.809836\n",
      "1             5  Chloroform  0.3   10       220    0.7       3.087804\n"
     ]
    }
   ],
   "source": [
    "from lib.utils import load_predict,save_pred\n",
    "\n",
    "#Specify data path\n",
    "datapath='val.csv'\n",
    "\n",
    "#Load model and data, then predict\n",
    "_,y_pred = load_predict(modelpath='data/xgboost_model_log.pkl',datapath=datapath)\n",
    "\n",
    "#Save prediction results to the original file\n",
    "save_pred(y_pred,datapath=datapath)"
   ]
  }
 ],
 "metadata": {
  "kernelspec": {
   "display_name": "Python 3.10.8 ('Cheminfo')",
   "language": "python",
   "name": "python3"
  },
  "language_info": {
   "codemirror_mode": {
    "name": "ipython",
    "version": 3
   },
   "file_extension": ".py",
   "mimetype": "text/x-python",
   "name": "python",
   "nbconvert_exporter": "python",
   "pygments_lexer": "ipython3",
   "version": "3.9.15"
  },
  "orig_nbformat": 4,
  "vscode": {
   "interpreter": {
    "hash": "a6e275f18682c7c76f3983ad2ec8564fd2ddbb2fbe00a52752e9178906e109ac"
   }
  }
 },
 "nbformat": 4,
 "nbformat_minor": 2
}
