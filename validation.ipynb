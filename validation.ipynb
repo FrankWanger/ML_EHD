{
 "cells": [
  {
   "cell_type": "markdown",
   "metadata": {},
   "source": [
    "Copyright (C) Fanjin Wang 2021 - All Rights Reserved\n",
    "Fanjin.Wang.20@ucl.ac.uk"
   ]
  },
  {
   "cell_type": "markdown",
   "metadata": {},
   "source": [
    "### Lib Dependancies:\n",
    "    scikit-learn\n",
    "    py-xgboost    \n",
    "    pandas\n",
    "    numpy"
   ]
  },
  {
   "cell_type": "code",
   "execution_count": 1,
   "metadata": {},
   "outputs": [
    {
     "ename": "ValueError",
     "evalue": "'GVL' is not in list",
     "output_type": "error",
     "traceback": [
      "\u001b[1;31m---------------------------------------------------------------------------\u001b[0m",
      "\u001b[1;31mValueError\u001b[0m                                Traceback (most recent call last)",
      "\u001b[1;32mc:\\Users\\homeuser\\OneDrive - University College London\\UCL-PhD\\Projects\\ML-ES Model Deployment\\ver1\\validation.ipynb Cell 3\u001b[0m line \u001b[0;36m7\n\u001b[0;32m      <a href='vscode-notebook-cell:/c%3A/Users/homeuser/OneDrive%20-%20University%20College%20London/UCL-PhD/Projects/ML-ES%20Model%20Deployment/ver1/validation.ipynb#W2sZmlsZQ%3D%3D?line=3'>4</a>\u001b[0m datapath\u001b[39m=\u001b[39m\u001b[39m'\u001b[39m\u001b[39mValidation.csv\u001b[39m\u001b[39m'\u001b[39m\n\u001b[0;32m      <a href='vscode-notebook-cell:/c%3A/Users/homeuser/OneDrive%20-%20University%20College%20London/UCL-PhD/Projects/ML-ES%20Model%20Deployment/ver1/validation.ipynb#W2sZmlsZQ%3D%3D?line=5'>6</a>\u001b[0m \u001b[39m#Load model and data, then predict\u001b[39;00m\n\u001b[1;32m----> <a href='vscode-notebook-cell:/c%3A/Users/homeuser/OneDrive%20-%20University%20College%20London/UCL-PhD/Projects/ML-ES%20Model%20Deployment/ver1/validation.ipynb#W2sZmlsZQ%3D%3D?line=6'>7</a>\u001b[0m _,y_pred \u001b[39m=\u001b[39m load_predict(modelpath\u001b[39m=\u001b[39;49m\u001b[39m'\u001b[39;49m\u001b[39mData/xgboost_model_log.pkl\u001b[39;49m\u001b[39m'\u001b[39;49m,datapath\u001b[39m=\u001b[39;49mdatapath)\n\u001b[0;32m      <a href='vscode-notebook-cell:/c%3A/Users/homeuser/OneDrive%20-%20University%20College%20London/UCL-PhD/Projects/ML-ES%20Model%20Deployment/ver1/validation.ipynb#W2sZmlsZQ%3D%3D?line=8'>9</a>\u001b[0m \u001b[39m#Save prediction results to the original file\u001b[39;00m\n\u001b[0;32m     <a href='vscode-notebook-cell:/c%3A/Users/homeuser/OneDrive%20-%20University%20College%20London/UCL-PhD/Projects/ML-ES%20Model%20Deployment/ver1/validation.ipynb#W2sZmlsZQ%3D%3D?line=9'>10</a>\u001b[0m save_pred(y_pred,datapath\u001b[39m=\u001b[39mdatapath)\n",
      "File \u001b[1;32mc:\\Users\\homeuser\\OneDrive - University College London\\UCL-PhD\\Projects\\ML-ES Model Deployment\\ver1\\lib\\utils.py:26\u001b[0m, in \u001b[0;36mload_predict\u001b[1;34m(modelpath, datapath)\u001b[0m\n\u001b[0;32m     23\u001b[0m FPs \u001b[39m=\u001b[39m []\n\u001b[0;32m     24\u001b[0m \u001b[39mfor\u001b[39;00m entry \u001b[39min\u001b[39;00m X_raw:\n\u001b[0;32m     25\u001b[0m     \u001b[39m#Find featurization by index in the solvent list\u001b[39;00m\n\u001b[1;32m---> 26\u001b[0m     FP \u001b[39m=\u001b[39m fingerprint_file[sol_list\u001b[39m.\u001b[39;49mindex(entry[\u001b[39m0\u001b[39;49m])]\n\u001b[0;32m     27\u001b[0m     entry\u001b[39m.\u001b[39mpop(\u001b[39m0\u001b[39m)\n\u001b[0;32m     28\u001b[0m     FPs\u001b[39m.\u001b[39mappend(FP)\n",
      "\u001b[1;31mValueError\u001b[0m: 'GVL' is not in list"
     ]
    }
   ],
   "source": [
    "from lib.utils import load_predict,save_pred\n",
    "\n",
    "#Specify data path\n",
    "datapath='Validation.csv'\n",
    "\n",
    "#Load model and data, then predict\n",
    "_,y_pred = load_predict(modelpath='Data/xgboost_model_log.pkl',datapath=datapath)\n",
    "\n",
    "#Save prediction results to the original file\n",
    "save_pred(y_pred,datapath=datapath)"
   ]
  }
 ],
 "metadata": {
  "kernelspec": {
   "display_name": "Python 3.10.8 ('Cheminfo')",
   "language": "python",
   "name": "python3"
  },
  "language_info": {
   "codemirror_mode": {
    "name": "ipython",
    "version": 3
   },
   "file_extension": ".py",
   "mimetype": "text/x-python",
   "name": "python",
   "nbconvert_exporter": "python",
   "pygments_lexer": "ipython3",
   "version": "3.9.17"
  },
  "orig_nbformat": 4,
  "vscode": {
   "interpreter": {
    "hash": "a6e275f18682c7c76f3983ad2ec8564fd2ddbb2fbe00a52752e9178906e109ac"
   }
  }
 },
 "nbformat": 4,
 "nbformat_minor": 2
}
